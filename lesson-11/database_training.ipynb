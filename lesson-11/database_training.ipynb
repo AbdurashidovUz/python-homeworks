{
 "cells": [
  {
   "cell_type": "code",
   "id": "initial_id",
   "metadata": {
    "collapsed": true,
    "ExecuteTime": {
     "end_time": "2025-03-21T11:19:44.714485Z",
     "start_time": "2025-03-21T11:19:44.708717Z"
    }
   },
   "source": [
    "import sqlite3\n",
    "from fileinput import close"
   ],
   "outputs": [],
   "execution_count": 2
  },
  {
   "metadata": {
    "ExecuteTime": {
     "end_time": "2025-03-21T11:19:49.134310Z",
     "start_time": "2025-03-21T11:19:49.128751Z"
    }
   },
   "cell_type": "code",
   "source": "connection = sqlite3.connect('database.db')",
   "id": "383d7fd790142db5",
   "outputs": [],
   "execution_count": 3
  },
  {
   "metadata": {
    "ExecuteTime": {
     "end_time": "2025-03-21T11:19:50.475806Z",
     "start_time": "2025-03-21T11:19:50.466093Z"
    }
   },
   "cell_type": "code",
   "source": "type(connection)",
   "id": "974aeaa16c9f1f1a",
   "outputs": [
    {
     "data": {
      "text/plain": [
       "sqlite3.Connection"
      ]
     },
     "execution_count": 4,
     "metadata": {},
     "output_type": "execute_result"
    }
   ],
   "execution_count": 4
  },
  {
   "metadata": {
    "ExecuteTime": {
     "end_time": "2025-03-21T11:19:53.868990Z",
     "start_time": "2025-03-21T11:19:53.862932Z"
    }
   },
   "cell_type": "code",
   "source": "con=sqlite3.connect(\":memory:\")",
   "id": "18610134b7b15bec",
   "outputs": [],
   "execution_count": 6
  },
  {
   "metadata": {
    "ExecuteTime": {
     "end_time": "2025-03-21T11:19:55.419566Z",
     "start_time": "2025-03-21T11:19:55.411296Z"
    }
   },
   "cell_type": "code",
   "source": [
    "query = \"Select datetime('now','localtime');\"\n",
    "cursor = con.cursor()\n",
    "time  = cursor.execute(query)\n",
    "time.fetchone()\n"
   ],
   "id": "bd02b7bae11df4f6",
   "outputs": [
    {
     "data": {
      "text/plain": [
       "('2025-03-21 16:19:55',)"
      ]
     },
     "execution_count": 7,
     "metadata": {},
     "output_type": "execute_result"
    }
   ],
   "execution_count": 7
  },
  {
   "metadata": {
    "ExecuteTime": {
     "end_time": "2025-03-21T11:19:57.591694Z",
     "start_time": "2025-03-21T11:19:57.585294Z"
    }
   },
   "cell_type": "code",
   "source": "con.close()",
   "id": "5134a49e7cd257ea",
   "outputs": [],
   "execution_count": 8
  },
  {
   "metadata": {},
   "cell_type": "markdown",
   "source": "# Using \"With\" keyword\n",
   "id": "f2826833733d2639"
  },
  {
   "metadata": {
    "ExecuteTime": {
     "end_time": "2025-03-21T12:35:11.309553Z",
     "start_time": "2025-03-21T12:35:11.150239Z"
    }
   },
   "cell_type": "code",
   "source": [
    "with sqlite3.connect('database.db') as con:\n",
    "    cursor = con.cursor()\n",
    "    cursor.execute('create table Student ( fname text not null, lname text not null, age int not null);')\n",
    "    print(cursor.fetchmany(1))"
   ],
   "id": "14005fc59165bddc",
   "outputs": [
    {
     "ename": "OperationalError",
     "evalue": "table Student already exists",
     "output_type": "error",
     "traceback": [
      "\u001B[1;31m---------------------------------------------------------------------------\u001B[0m",
      "\u001B[1;31mOperationalError\u001B[0m                          Traceback (most recent call last)",
      "Cell \u001B[1;32mIn[22], line 3\u001B[0m\n\u001B[0;32m      1\u001B[0m \u001B[38;5;28;01mwith\u001B[39;00m sqlite3\u001B[38;5;241m.\u001B[39mconnect(\u001B[38;5;124m'\u001B[39m\u001B[38;5;124mdatabase.db\u001B[39m\u001B[38;5;124m'\u001B[39m) \u001B[38;5;28;01mas\u001B[39;00m con:\n\u001B[0;32m      2\u001B[0m     cursor \u001B[38;5;241m=\u001B[39m con\u001B[38;5;241m.\u001B[39mcursor()\n\u001B[1;32m----> 3\u001B[0m     \u001B[43mcursor\u001B[49m\u001B[38;5;241;43m.\u001B[39;49m\u001B[43mexecute\u001B[49m\u001B[43m(\u001B[49m\u001B[38;5;124;43m'\u001B[39;49m\u001B[38;5;124;43mcreate table Student ( fname text not null, lname text not null, age int not null);\u001B[39;49m\u001B[38;5;124;43m'\u001B[39;49m\u001B[43m)\u001B[49m\n\u001B[0;32m      4\u001B[0m     \u001B[38;5;28mprint\u001B[39m(cursor\u001B[38;5;241m.\u001B[39mfetchmany(\u001B[38;5;241m1\u001B[39m))\n",
      "\u001B[1;31mOperationalError\u001B[0m: table Student already exists"
     ]
    }
   ],
   "execution_count": 22
  },
  {
   "metadata": {
    "ExecuteTime": {
     "end_time": "2025-03-21T12:35:14.289102Z",
     "start_time": "2025-03-21T12:35:14.269323Z"
    }
   },
   "cell_type": "code",
   "source": [
    "with sqlite3.connect('database.db') as con:\n",
    "    cursor = con.cursor()\n",
    "    query  = \"insert into Student (fname, lname, age) values ('John', 'Doe', 21);\"\n",
    "    data  = cursor.execute(query)"
   ],
   "id": "8bb371f04c999537",
   "outputs": [],
   "execution_count": 23
  },
  {
   "metadata": {
    "ExecuteTime": {
     "end_time": "2025-03-21T12:38:49.594547Z",
     "start_time": "2025-03-21T12:38:49.576166Z"
    }
   },
   "cell_type": "code",
   "source": [
    "with sqlite3.connect('database.db') as con:\n",
    "    cursor = con.cursor()\n",
    "    query  = \"drop table Student;\"\n",
    "    data  = cursor.execute(query)\n",
    "    "
   ],
   "id": "18df42a4ec36be9d",
   "outputs": [],
   "execution_count": 25
  },
  {
   "metadata": {
    "ExecuteTime": {
     "end_time": "2025-03-21T12:41:03.590758Z",
     "start_time": "2025-03-21T12:41:03.583784Z"
    }
   },
   "cell_type": "code",
   "source": "delete = \"\"\" drop table Student2\"\"\"",
   "id": "287cb9999d49897e",
   "outputs": [],
   "execution_count": 32
  },
  {
   "metadata": {
    "ExecuteTime": {
     "end_time": "2025-03-21T12:41:20.615792Z",
     "start_time": "2025-03-21T12:41:20.577726Z"
    }
   },
   "cell_type": "code",
   "source": [
    "with sqlite3.connect('database.db') as con:\n",
    "    cursor = con.cursor()\n",
    "    cursor.execute(delete)"
   ],
   "id": "f94dec1b1dabf61a",
   "outputs": [
    {
     "ename": "OperationalError",
     "evalue": "no such table: Student2",
     "output_type": "error",
     "traceback": [
      "\u001B[1;31m---------------------------------------------------------------------------\u001B[0m",
      "\u001B[1;31mOperationalError\u001B[0m                          Traceback (most recent call last)",
      "Cell \u001B[1;32mIn[35], line 3\u001B[0m\n\u001B[0;32m      1\u001B[0m \u001B[38;5;28;01mwith\u001B[39;00m sqlite3\u001B[38;5;241m.\u001B[39mconnect(\u001B[38;5;124m'\u001B[39m\u001B[38;5;124mdatabase.db\u001B[39m\u001B[38;5;124m'\u001B[39m) \u001B[38;5;28;01mas\u001B[39;00m con:\n\u001B[0;32m      2\u001B[0m     cursor \u001B[38;5;241m=\u001B[39m con\u001B[38;5;241m.\u001B[39mcursor()\n\u001B[1;32m----> 3\u001B[0m     \u001B[43mcursor\u001B[49m\u001B[38;5;241;43m.\u001B[39;49m\u001B[43mexecute\u001B[49m\u001B[43m(\u001B[49m\u001B[43mdelete\u001B[49m\u001B[43m)\u001B[49m\n",
      "\u001B[1;31mOperationalError\u001B[0m: no such table: Student2"
     ]
    }
   ],
   "execution_count": 35
  },
  {
   "metadata": {
    "ExecuteTime": {
     "end_time": "2025-03-21T12:57:52.831225Z",
     "start_time": "2025-03-21T12:57:52.819907Z"
    }
   },
   "cell_type": "code",
   "source": [
    "sql = \"\"\"\n",
    "    Drop table if exists Students;\n",
    "\n",
    "    Create table Students(fname text, lname text, age int);\n",
    "\n",
    "    Insert into Students Values\n",
    "    ('Ali', 'Valiev', 21), \n",
    "    ('Gani', 'Aaliev', 22), \n",
    "    ('Sardor', 'Ahmadaliev', 31),\n",
    "    ('Erik', 'Haydar', 41),\n",
    "    ('Elmurod', 'Aka', 51);\n",
    "\"\"\""
   ],
   "id": "3e28aade4b4567bd",
   "outputs": [],
   "execution_count": 36
  },
  {
   "metadata": {},
   "cell_type": "code",
   "outputs": [],
   "execution_count": null,
   "source": "",
   "id": "faa5aab803f91457"
  },
  {
   "metadata": {
    "ExecuteTime": {
     "end_time": "2025-03-21T13:03:38.764345Z",
     "start_time": "2025-03-21T13:03:38.745476Z"
    }
   },
   "cell_type": "code",
   "source": [
    "    with sqlite3.connect(\"studentTest.db\") as c:\n",
    "        cursor = c.cursor()\n",
    "        cursor.executescript(sql)"
   ],
   "id": "998b4a05b2c00999",
   "outputs": [],
   "execution_count": 38
  },
  {
   "metadata": {
    "ExecuteTime": {
     "end_time": "2025-03-21T13:12:03.972413Z",
     "start_time": "2025-03-21T13:12:03.951444Z"
    }
   },
   "cell_type": "code",
   "source": [
    "with sqlite3.connect(\"studentTest.db\") as con:\n",
    "    cursor = con.cursor()\n",
    "    query = \"Select * from Students order by age desc\"\n",
    "    data = cursor.execute(query)\n",
    "\n",
    "data.fetchall()"
   ],
   "id": "e14f3bf89a946a47",
   "outputs": [
    {
     "data": {
      "text/plain": [
       "[('Elmurod', 'Aka', 51),\n",
       " ('Erik', 'Haydar', 41),\n",
       " ('Sardor', 'Ahmadaliev', 31),\n",
       " ('Gani', 'Aaliev', 22),\n",
       " ('Ali', 'Valiev', 21)]"
      ]
     },
     "execution_count": 42,
     "metadata": {},
     "output_type": "execute_result"
    }
   ],
   "execution_count": 42
  },
  {
   "metadata": {
    "ExecuteTime": {
     "end_time": "2025-03-21T15:46:21.513924Z",
     "start_time": "2025-03-21T15:46:21.505518Z"
    }
   },
   "cell_type": "code",
   "source": [
    "student_values = (\n",
    "    ('Ali', 'Valiev', 21), \n",
    "    ('Gani', 'Aaliev', 22), \n",
    "    ('Sardor', 'Ahmadaliev', 31),\n",
    "    ('Ali', 'Valiev', 21), \n",
    "    ('Gani', 'Aaliev', 22), \n",
    "    ('Sardor', 'Ahmadaliev', 31),\n",
    "    ('Ali', 'Valiev', 21), \n",
    "    ('Gani', 'Aaliev', 22), \n",
    "    ('Sardor', 'Ahmadaliev', 31),\n",
    "    ('Ali', 'Valiev', 21), \n",
    "    ('Gani', 'Aaliev', 22), \n",
    "    ('Sardor', 'Ahmadaliev', 31),\n",
    "    ('Ali', 'Valiev', 21), \n",
    "    ('Gani', 'Aaliev', 22), \n",
    "    ('Sardor', 'Ahmadaliev', 31),\n",
    ")"
   ],
   "id": "4428efec9f6bfe90",
   "outputs": [],
   "execution_count": 44
  },
  {
   "metadata": {
    "ExecuteTime": {
     "end_time": "2025-03-21T15:48:42.611781Z",
     "start_time": "2025-03-21T15:48:42.591039Z"
    }
   },
   "cell_type": "code",
   "source": [
    "with sqlite3.connect(\"student.db\") as con:\n",
    "    cursor = con.cursor()\n",
    "    query = \"create table Students(fname text, lname text, age int);\"\n",
    "    cursor.execute(query)"
   ],
   "id": "d93d291a34c99da",
   "outputs": [],
   "execution_count": 46
  },
  {
   "metadata": {
    "ExecuteTime": {
     "end_time": "2025-03-21T15:48:45.837961Z",
     "start_time": "2025-03-21T15:48:45.825717Z"
    }
   },
   "cell_type": "code",
   "source": [
    "with sqlite3.connect(\"student.db\") as con:\n",
    "    cursor = con.cursor()\n",
    "    placeholders = \", \".join(['?'] * 3)\n",
    "    \"\"\"data = cursor.executemany(\"Insert into Students Values(?, ?, ?);\", student_values)\"\"\"\n",
    "    data = cursor.executemany(f\"Insert into Students Values({placeholders})\", student_values)"
   ],
   "id": "287187a55121d894",
   "outputs": [],
   "execution_count": 47
  },
  {
   "metadata": {
    "ExecuteTime": {
     "end_time": "2025-03-21T16:30:01.642696Z",
     "start_time": "2025-03-21T16:29:50.460763Z"
    }
   },
   "cell_type": "code",
   "source": [
    "fname = input(\"Ism? \")\n",
    "lname = input(\"Familiya? \")\n",
    "age = input(\"Yosh? \")\n",
    "\n",
    "\n",
    "values = (\n",
    "    (fname, lname, age)\n",
    ")\n",
    "\n",
    "# query = (\n",
    "#     f\"Insert into Students Values('{fname}', '{lname}', '{age}')\"\n",
    "# )\n",
    "\n",
    "with sqlite3.connect(\"studentNN.db\") as con:\n",
    "    cursor = con.cursor()\n",
    "    # cursor.execute(\"Create table Students (fname Text, lname text, age int)\")\n",
    "    cursor.execute(\"Insert into Students Values(?, ?, ?)\", values)"
   ],
   "id": "f12e6e4ca96955f0",
   "outputs": [],
   "execution_count": 52
  },
  {
   "metadata": {
    "ExecuteTime": {
     "end_time": "2025-03-21T17:12:40.857547Z",
     "start_time": "2025-03-21T17:12:40.841829Z"
    }
   },
   "cell_type": "code",
   "source": [
    "\n",
    "\n",
    "with sqlite3.connect(\"studentTest.db\") as con:\n",
    "    \n",
    "    cursor = con.cursor()\n",
    "    query = \"delete from Students where fname = 'Ali';\"\n",
    "    cursor.execute(query)"
   ],
   "id": "5424e58ad44297f6",
   "outputs": [],
   "execution_count": 56
  },
  {
   "metadata": {},
   "cell_type": "code",
   "outputs": [],
   "execution_count": null,
   "source": "",
   "id": "23904d9f2cc8ab0f"
  },
  {
   "metadata": {
    "ExecuteTime": {
     "end_time": "2025-03-21T17:14:40.165626Z",
     "start_time": "2025-03-21T17:14:40.158670Z"
    }
   },
   "cell_type": "code",
   "source": [
    "sql = \"\"\"\n",
    "    drop table if exists Stu;\n",
    "\n",
    "    Create table Stu(fname text, lname text, age int);\n",
    "\n",
    "    Insert into Stu Values\n",
    "    ('Ali', 'Valiev', 21), \n",
    "    ('Gani', 'Aaliev', 22),\n",
    "    ('Sardor', 'Ahmadaliev', 31),\n",
    "    ('Erik', 'Haydar', 41),\n",
    "    ('Elmurod', 'Aka', 51);\n",
    "\n",
    "    Delete from Stu where age = 31;\n",
    "\"\"\""
   ],
   "id": "c83b9483b81e1efd",
   "outputs": [],
   "execution_count": 57
  },
  {
   "metadata": {
    "ExecuteTime": {
     "end_time": "2025-03-21T17:16:12.419876Z",
     "start_time": "2025-03-21T17:16:12.386494Z"
    }
   },
   "cell_type": "code",
   "source": [
    "with sqlite3.connect(\"stuTest.db\") as c:\n",
    "    cursor = c.cursor()\n",
    "    cursor.executescript(sql)\n",
    "    cursor.execute(\"ALTER TABLE Stu ADD column email TEXT\")\n",
    "    cursor.execute(\"UPDATE Stu SET email='nimadir@nima.com21' WHERE age = 21\")\n",
    "    cursor.execute(\"UPDATE Stu SET email='nimadir@nima.com22' WHERE age = 22\")\n",
    "    cursor.execute(\"UPDATE Stu SET email='nimadir@nima.com41' WHERE age = 41\")\n",
    "    cursor.execute(\"UPDATE Stu SET email='nimadir@nima.com51' WHERE age = 51\")"
   ],
   "id": "175da80c1966df3",
   "outputs": [],
   "execution_count": 58
  },
  {
   "metadata": {},
   "cell_type": "code",
   "outputs": [],
   "execution_count": null,
   "source": "",
   "id": "75088cdd49be53a4"
  },
  {
   "metadata": {
    "ExecuteTime": {
     "end_time": "2025-03-21T17:19:03.853513Z",
     "start_time": "2025-03-21T17:19:03.835418Z"
    }
   },
   "cell_type": "code",
   "source": [
    "with sqlite3.connect(\"stuTest.db\") as c:\n",
    "    cursor = c.cursor()\n",
    "    # cursor.executescript(sql)\n",
    "    data = cursor.execute(\"Select fname, lname from Stu where age > 40\")\n",
    "\n",
    "data.fetchall()"
   ],
   "id": "c3f2f5cc47612838",
   "outputs": [
    {
     "data": {
      "text/plain": [
       "[('Erik', 'Haydar'), ('Elmurod', 'Aka')]"
      ]
     },
     "execution_count": 59,
     "metadata": {},
     "output_type": "execute_result"
    }
   ],
   "execution_count": 59
  }
 ],
 "metadata": {
  "kernelspec": {
   "display_name": "Python 3",
   "language": "python",
   "name": "python3"
  },
  "language_info": {
   "codemirror_mode": {
    "name": "ipython",
    "version": 2
   },
   "file_extension": ".py",
   "mimetype": "text/x-python",
   "name": "python",
   "nbconvert_exporter": "python",
   "pygments_lexer": "ipython2",
   "version": "2.7.6"
  }
 },
 "nbformat": 4,
 "nbformat_minor": 5
}
