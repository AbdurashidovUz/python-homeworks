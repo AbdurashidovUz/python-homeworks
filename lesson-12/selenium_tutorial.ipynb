{
 "cells": [
  {
   "cell_type": "code",
   "id": "initial_id",
   "metadata": {
    "collapsed": true,
    "ExecuteTime": {
     "end_time": "2025-03-23T17:28:58.229711Z",
     "start_time": "2025-03-23T17:28:49.016994Z"
    }
   },
   "source": [
    "from selenium import webdriver\n",
    "from selenium.webdriver.chrome.options import Options\n",
    "import time\n",
    "\n",
    "chrome_options = Options()\n",
    "chrome_options.add_argument(\"--window-position=-1700,-200\")  # Position window on the second screen\n",
    "\n",
    "# Set up the WebDriver (use the path to your driver if not in PATH)\n",
    "driver = webdriver.Chrome(chrome_options)  # For Firefox, use webdriver.Firefox()\n",
    "\n",
    "# Open a website\n",
    "driver.get(\"https://example.com\")\n",
    "\n",
    "# import requests\n",
    "# res = requests.get('https://example.com')\n",
    "\n",
    "# Print the page title\n",
    "print(\"Page title is:\", driver.title)\n",
    "\n",
    "time.sleep(5)\n",
    "# Close the browser\n",
    "driver.quit()"
   ],
   "outputs": [
    {
     "name": "stdout",
     "output_type": "stream",
     "text": [
      "Page title is: Example Domain\n"
     ]
    }
   ],
   "execution_count": 1
  },
  {
   "metadata": {
    "ExecuteTime": {
     "end_time": "2025-03-23T17:33:02.818915Z",
     "start_time": "2025-03-23T17:32:58.535605Z"
    }
   },
   "cell_type": "code",
   "source": [
    "from selenium import webdriver\n",
    "from selenium.webdriver.chrome.options import Options\n",
    "\n",
    "chrome_options = Options()\n",
    "chrome_options.add_argument(\"--headless\")  # Run browser in headless mode\n",
    "chrome_options.add_argument(\"--disable-popup-blocking\")\n",
    "chrome_options.add_argument(\"--window-position=-1700,-200\")\n",
    "\n",
    "# Browser will remain open after the script ends\n",
    "chrome_options.add_experimental_option(\"detach\", True)\n",
    "\n",
    "driver = webdriver.Chrome(options=chrome_options)\n",
    "driver.get(\"https://example.com\")\n",
    "print(\"Headless mode page title:\", driver.title)\n",
    "driver.quit()"
   ],
   "id": "a1d9f8c8585e9e56",
   "outputs": [
    {
     "name": "stdout",
     "output_type": "stream",
     "text": [
      "Headless mode page title: Example Domain\n"
     ]
    }
   ],
   "execution_count": 8
  },
  {
   "metadata": {},
   "cell_type": "markdown",
   "source": [
    "## Troubleshooting Common Issues\n",
    "\n",
    "Driver Not Found: Ensure the browser driver is in PATH or specify the full path when initializing webdriver.Chrome() or webdriver.Firefox().\n",
    "Version Mismatch: Use a browser driver version compatible with your browser version.\n",
    "Locating Web Elements\n",
    "\n",
    "Web elements like buttons, input fields, links, and dropdowns are the building blocks of a web page. To interact with them using Selenium, you must locate these elements on the page. Selenium provides several locator strategies for this purpose.\n",
    "\n",
    "# Common Locator Strategies\n",
    "\n",
    "* ID\n",
    "* Name\n",
    "* Class Name\n",
    "* Tag Name\n",
    "* CSS Selector\n",
    "* XPath"
   ],
   "id": "d4d48a03a8a5449c"
  },
  {
   "metadata": {},
   "cell_type": "markdown",
   "source": [
    "### 1. Locate by ID The id attribute is often unique to an element, making it a reliable locator.\n",
    "\n",
    "Example:"
   ],
   "id": "e25ca68e45fdb9a2"
  },
  {
   "metadata": {
    "ExecuteTime": {
     "end_time": "2025-03-23T17:52:40.899709Z",
     "start_time": "2025-03-23T17:52:24.511352Z"
    }
   },
   "cell_type": "code",
   "source": [
    "from selenium import webdriver\n",
    "from selenium.webdriver.common.by import By\n",
    "\n",
    "driver = webdriver.Chrome()\n",
    "driver.get(\"https://www.w3schools.com/\")\n",
    "search_box = driver.find_element(by=By.ID, value=\"tnb-google-search-input\")\n",
    "search_box.send_keys(\"DEMO\")\n",
    "\n",
    "import time\n",
    "time.sleep(10)\n",
    "\n",
    "driver.quit()"
   ],
   "id": "c879b08e20040c7a",
   "outputs": [],
   "execution_count": 10
  },
  {
   "metadata": {},
   "cell_type": "markdown",
   "source": [
    "**2. Locate by Name**\n",
    "The `name` attribute is commonly used in form fields.\n",
    "\n",
    "---\n",
    "\n",
    "```python\n",
    "element = driver.find_element(By.NAME, \"element_name\")\n",
    "```\n",
    "---\n",
    "\n",
    "**3. Locate by Class Name**\n",
    "If elements share a class, you can use `find_element` for a single match or `find_elements` for multiple matches.\n",
    "\n",
    "---\n",
    "\n",
    "```python\n",
    "element = driver.find_element(By.CLASS_NAME, \"element_class\")\n",
    "elements = driver.find_elements(By.CLASS_NAME, \"common_class\")\n",
    "```\n",
    "---\n",
    "\n",
    "**4. Locate by Tag Name**\n",
    "Locate elements using their HTML tags, such as `<a>`, `<button>`, or `<input>`.\n",
    "\n",
    "---\n",
    "\n",
    "```python\n",
    "elements = driver.find_elements(By.TAG_NAME, \"a\")\n",
    "```\n",
    "---\n",
    "\n",
    "**5. Locate by CSS Selector**\n",
    "CSS Selectors offer a powerful way to locate elements using CSS rules.\n",
    "\n",
    "---\n",
    "\n",
    "```python\n",
    "element = driver.find_element(By.CSS_SELECTOR, \"div.container > a\")\n",
    "```\n",
    "---\n",
    "\n",
    "**6. Locate by XPath**\n",
    "XPath allows you to navigate through the DOM structure of a webpage. It is highly flexible but can be slower than other locators.\n",
    "\n",
    "---\n",
    "\n",
    "```python\n",
    "element = driver.find_element(By.XPATH, \"//div[@id='element_id']\")\n",
    "```\n",
    "---"
   ],
   "id": "16abce212b2e548"
  },
  {
   "metadata": {},
   "cell_type": "markdown",
   "source": [
    "**Working with Multiple Elements**\n",
    "\n",
    "To locate multiple elements that match a locator strategy, use `find_elements` instead of `find_element`. This returns a list of matching elements.\n",
    "\n",
    "---\n",
    "```python\n",
    "elements = driver.find_elements(By.CLASS_NAME, \"common_class\")\n",
    "for element in elements:\n",
    "    print(element.text)\n",
    "```\n",
    "---"
   ],
   "id": "e47d257765ffefef"
  },
  {
   "metadata": {},
   "cell_type": "markdown",
   "source": [
    "**Locator Priority Best Practices**\n",
    "1. **Prefer ID or Name**: These are faster and often unique.\n",
    "2. **Use CSS Selectors**: Preferred for complex hierarchical matches.\n",
    "3. **Reserve XPath for Advanced Scenarios**: Useful when other locators aren’t applicable."
   ],
   "id": "d6811db88078ecac"
  },
  {
   "metadata": {},
   "cell_type": "markdown",
   "source": [
    "**Writing in Input Fields, Pressing Enter, and Clicking Buttons in Selenium**\n",
    "\n",
    "Selenium provides a set of methods to interact with web elements, such as writing text in input fields, simulating the \"Enter\" key, and clicking buttons.\n",
    "\n",
    "**1. Writing in Input Fields**\n",
    "\n",
    "To write text in an input field, Selenium provides the `send_keys()` method.\n",
    "\n",
    "**Basic Syntax**\n",
    "```python\n",
    "element.send_keys(\"text to input\")\n",
    "```\n",
    "\n",
    "**Example**"
   ],
   "id": "4947cb2ee98be4bd"
  },
  {
   "metadata": {
    "ExecuteTime": {
     "end_time": "2025-03-23T18:02:01.232968Z",
     "start_time": "2025-03-23T18:01:33.647319Z"
    }
   },
   "cell_type": "code",
   "source": [
    "from selenium import webdriver\n",
    "from selenium.webdriver.common.by import By\n",
    "from selenium.webdriver.common.keys import Keys\n",
    "\n",
    "chrome_options.add_argument(\"--disable-popup-blocking\")\n",
    "chrome_options.add_argument(\"--window-position=-1700,-200\")\n",
    "\n",
    "driver = webdriver.Chrome()\n",
    "driver.get(\"https://www.google.com/\")\n",
    "\n",
    "search_box = driver.find_element(By.NAME, \"q\")\n",
    "search_box.send_keys(\"Python\" + Keys.ENTER)\n",
    "\n",
    "time.sleep(20)\n",
    "driver.quit()"
   ],
   "id": "59ab2dd369c78ff8",
   "outputs": [],
   "execution_count": 13
  },
  {
   "metadata": {},
   "cell_type": "markdown",
   "source": [
    "**3. Clicking Buttons**\n",
    "\n",
    "To click a button, Selenium provides the `click()` method.\n",
    "\n",
    "**Basic Syntax**\n",
    "```python\n",
    "element.click()\n",
    "```\n",
    "\n",
    "**Example**"
   ],
   "id": "5b61a9bad3fdcc75"
  },
  {
   "metadata": {
    "ExecuteTime": {
     "end_time": "2025-03-23T18:17:49.722903Z",
     "start_time": "2025-03-23T18:17:23.903209Z"
    }
   },
   "cell_type": "code",
   "source": [
    "from selenium import webdriver\n",
    "from selenium.webdriver.common.by import By\n",
    "from selenium.webdriver.common.keys import Keys\n",
    "\n",
    "chrome_options.add_argument(\"--disable-popup-blocking\")\n",
    "chrome_options.add_argument(\"--window-position=-1700,-200\")\n",
    "\n",
    "driver = webdriver.Chrome()\n",
    "driver.get(\"https://www.youtube.com/\")\n",
    " \n",
    "search_input = driver.find_element(By.NAME, 'search_query')\n",
    "search_input.send_keys(\"Machine Learning\")\n",
    "\n",
    "button = driver.find_element(By.CSS_SELECTOR, 'button[title=\"Search\"]')\n",
    "button.click()\n",
    "\n",
    "time.sleep(10)\n",
    "\n",
    "driver.quit()"
   ],
   "id": "818ff836ce385736",
   "outputs": [],
   "execution_count": 16
  },
  {
   "metadata": {
    "ExecuteTime": {
     "end_time": "2025-03-23T18:27:43.169672Z",
     "start_time": "2025-03-23T18:27:24.200698Z"
    }
   },
   "cell_type": "code",
   "source": [
    "\n",
    "from selenium import webdriver\n",
    "from selenium.webdriver.chrome.options import Options\n",
    "from selenium.webdriver.common.by import By\n",
    "import time\n",
    "\n",
    "chrome_options = Options()\n",
    "chrome_options.add_argument(\"--disable-popup-blocking\")\n",
    "chrome_options.add_argument(\"--window-position=-1700,-200\")\n",
    "chrome_options.add_experimental_option(\"detach\", True)\n",
    "\n",
    "\n",
    "url = 'https://www.saucedemo.com/'\n",
    "login = 'standard_user'\n",
    "password = 'secret_sauce'\n",
    "\n",
    "driver = webdriver.Chrome(options=chrome_options)\n",
    "driver.get(url)\n",
    "\n",
    "login_field = driver.find_element(By.ID, 'user-name')\n",
    "login_field.send_keys(login)\n",
    "time.sleep(4)\n",
    "\n",
    "password_field = driver.find_element(By.ID, 'password')\n",
    "password_field.send_keys(password)\n",
    "time.sleep(4)\n",
    "\n",
    "submit_field=driver.find_element(By.TAG_NAME, 'login-button')\n",
    "submit_field.click()\n",
    "time.sleep(4)"
   ],
   "id": "43f51d536f4aabf6",
   "outputs": [
    {
     "ename": "NoSuchElementException",
     "evalue": "Message: no such element: Unable to locate element: {\"method\":\"tag name\",\"selector\":\"login-button\"}\n  (Session info: chrome=134.0.6998.118); For documentation on this error, please visit: https://www.selenium.dev/documentation/webdriver/troubleshooting/errors#no-such-element-exception\nStacktrace:\n\tGetHandleVerifier [0x00007FF778294C25+3179557]\n\t(No symbol) [0x00007FF777EF88A0]\n\t(No symbol) [0x00007FF777D891CA]\n\t(No symbol) [0x00007FF777DDFA67]\n\t(No symbol) [0x00007FF777DDFC9C]\n\t(No symbol) [0x00007FF777E33627]\n\t(No symbol) [0x00007FF777E07C6F]\n\t(No symbol) [0x00007FF777E302F3]\n\t(No symbol) [0x00007FF777E07A03]\n\t(No symbol) [0x00007FF777DD06D0]\n\t(No symbol) [0x00007FF777DD1983]\n\tGetHandleVerifier [0x00007FF7782F67CD+3579853]\n\tGetHandleVerifier [0x00007FF77830D1D2+3672530]\n\tGetHandleVerifier [0x00007FF778302153+3627347]\n\tGetHandleVerifier [0x00007FF77806092A+868650]\n\t(No symbol) [0x00007FF777F02FFF]\n\t(No symbol) [0x00007FF777EFF4A4]\n\t(No symbol) [0x00007FF777EFF646]\n\t(No symbol) [0x00007FF777EEEAA9]\n\tBaseThreadInitThunk [0x00007FFB69C0E8D7+23]\n\tRtlUserThreadStart [0x00007FFB6AB5BF6C+44]\n",
     "output_type": "error",
     "traceback": [
      "\u001B[1;31m---------------------------------------------------------------------------\u001B[0m",
      "\u001B[1;31mNoSuchElementException\u001B[0m                    Traceback (most recent call last)",
      "Cell \u001B[1;32mIn[17], line 27\u001B[0m\n\u001B[0;32m     24\u001B[0m password_field\u001B[38;5;241m.\u001B[39msend_keys(password)\n\u001B[0;32m     25\u001B[0m time\u001B[38;5;241m.\u001B[39msleep(\u001B[38;5;241m4\u001B[39m)\n\u001B[1;32m---> 27\u001B[0m submit_field\u001B[38;5;241m=\u001B[39m\u001B[43mdriver\u001B[49m\u001B[38;5;241;43m.\u001B[39;49m\u001B[43mfind_element\u001B[49m\u001B[43m(\u001B[49m\u001B[43mBy\u001B[49m\u001B[38;5;241;43m.\u001B[39;49m\u001B[43mTAG_NAME\u001B[49m\u001B[43m,\u001B[49m\u001B[43m \u001B[49m\u001B[38;5;124;43m'\u001B[39;49m\u001B[38;5;124;43mlogin-button\u001B[39;49m\u001B[38;5;124;43m'\u001B[39;49m\u001B[43m)\u001B[49m\n\u001B[0;32m     28\u001B[0m submit_field\u001B[38;5;241m.\u001B[39mclick()\n\u001B[0;32m     29\u001B[0m time\u001B[38;5;241m.\u001B[39msleep(\u001B[38;5;241m4\u001B[39m)\n",
      "File \u001B[1;32m~\\AppData\\Local\\Programs\\Python\\Python312\\Lib\\site-packages\\selenium\\webdriver\\remote\\webdriver.py:898\u001B[0m, in \u001B[0;36mWebDriver.find_element\u001B[1;34m(self, by, value)\u001B[0m\n\u001B[0;32m    895\u001B[0m         \u001B[38;5;28;01mraise\u001B[39;00m NoSuchElementException(\u001B[38;5;124mf\u001B[39m\u001B[38;5;124m\"\u001B[39m\u001B[38;5;124mCannot locate relative element with: \u001B[39m\u001B[38;5;132;01m{\u001B[39;00mby\u001B[38;5;241m.\u001B[39mroot\u001B[38;5;132;01m}\u001B[39;00m\u001B[38;5;124m\"\u001B[39m)\n\u001B[0;32m    896\u001B[0m     \u001B[38;5;28;01mreturn\u001B[39;00m elements[\u001B[38;5;241m0\u001B[39m]\n\u001B[1;32m--> 898\u001B[0m \u001B[38;5;28;01mreturn\u001B[39;00m \u001B[38;5;28;43mself\u001B[39;49m\u001B[38;5;241;43m.\u001B[39;49m\u001B[43mexecute\u001B[49m\u001B[43m(\u001B[49m\u001B[43mCommand\u001B[49m\u001B[38;5;241;43m.\u001B[39;49m\u001B[43mFIND_ELEMENT\u001B[49m\u001B[43m,\u001B[49m\u001B[43m \u001B[49m\u001B[43m{\u001B[49m\u001B[38;5;124;43m\"\u001B[39;49m\u001B[38;5;124;43musing\u001B[39;49m\u001B[38;5;124;43m\"\u001B[39;49m\u001B[43m:\u001B[49m\u001B[43m \u001B[49m\u001B[43mby\u001B[49m\u001B[43m,\u001B[49m\u001B[43m \u001B[49m\u001B[38;5;124;43m\"\u001B[39;49m\u001B[38;5;124;43mvalue\u001B[39;49m\u001B[38;5;124;43m\"\u001B[39;49m\u001B[43m:\u001B[49m\u001B[43m \u001B[49m\u001B[43mvalue\u001B[49m\u001B[43m}\u001B[49m\u001B[43m)\u001B[49m[\u001B[38;5;124m\"\u001B[39m\u001B[38;5;124mvalue\u001B[39m\u001B[38;5;124m\"\u001B[39m]\n",
      "File \u001B[1;32m~\\AppData\\Local\\Programs\\Python\\Python312\\Lib\\site-packages\\selenium\\webdriver\\remote\\webdriver.py:429\u001B[0m, in \u001B[0;36mWebDriver.execute\u001B[1;34m(self, driver_command, params)\u001B[0m\n\u001B[0;32m    427\u001B[0m response \u001B[38;5;241m=\u001B[39m \u001B[38;5;28mself\u001B[39m\u001B[38;5;241m.\u001B[39mcommand_executor\u001B[38;5;241m.\u001B[39mexecute(driver_command, params)\n\u001B[0;32m    428\u001B[0m \u001B[38;5;28;01mif\u001B[39;00m response:\n\u001B[1;32m--> 429\u001B[0m     \u001B[38;5;28;43mself\u001B[39;49m\u001B[38;5;241;43m.\u001B[39;49m\u001B[43merror_handler\u001B[49m\u001B[38;5;241;43m.\u001B[39;49m\u001B[43mcheck_response\u001B[49m\u001B[43m(\u001B[49m\u001B[43mresponse\u001B[49m\u001B[43m)\u001B[49m\n\u001B[0;32m    430\u001B[0m     response[\u001B[38;5;124m\"\u001B[39m\u001B[38;5;124mvalue\u001B[39m\u001B[38;5;124m\"\u001B[39m] \u001B[38;5;241m=\u001B[39m \u001B[38;5;28mself\u001B[39m\u001B[38;5;241m.\u001B[39m_unwrap_value(response\u001B[38;5;241m.\u001B[39mget(\u001B[38;5;124m\"\u001B[39m\u001B[38;5;124mvalue\u001B[39m\u001B[38;5;124m\"\u001B[39m, \u001B[38;5;28;01mNone\u001B[39;00m))\n\u001B[0;32m    431\u001B[0m     \u001B[38;5;28;01mreturn\u001B[39;00m response\n",
      "File \u001B[1;32m~\\AppData\\Local\\Programs\\Python\\Python312\\Lib\\site-packages\\selenium\\webdriver\\remote\\errorhandler.py:232\u001B[0m, in \u001B[0;36mErrorHandler.check_response\u001B[1;34m(self, response)\u001B[0m\n\u001B[0;32m    230\u001B[0m         alert_text \u001B[38;5;241m=\u001B[39m value[\u001B[38;5;124m\"\u001B[39m\u001B[38;5;124malert\u001B[39m\u001B[38;5;124m\"\u001B[39m]\u001B[38;5;241m.\u001B[39mget(\u001B[38;5;124m\"\u001B[39m\u001B[38;5;124mtext\u001B[39m\u001B[38;5;124m\"\u001B[39m)\n\u001B[0;32m    231\u001B[0m     \u001B[38;5;28;01mraise\u001B[39;00m exception_class(message, screen, stacktrace, alert_text)  \u001B[38;5;66;03m# type: ignore[call-arg]  # mypy is not smart enough here\u001B[39;00m\n\u001B[1;32m--> 232\u001B[0m \u001B[38;5;28;01mraise\u001B[39;00m exception_class(message, screen, stacktrace)\n",
      "\u001B[1;31mNoSuchElementException\u001B[0m: Message: no such element: Unable to locate element: {\"method\":\"tag name\",\"selector\":\"login-button\"}\n  (Session info: chrome=134.0.6998.118); For documentation on this error, please visit: https://www.selenium.dev/documentation/webdriver/troubleshooting/errors#no-such-element-exception\nStacktrace:\n\tGetHandleVerifier [0x00007FF778294C25+3179557]\n\t(No symbol) [0x00007FF777EF88A0]\n\t(No symbol) [0x00007FF777D891CA]\n\t(No symbol) [0x00007FF777DDFA67]\n\t(No symbol) [0x00007FF777DDFC9C]\n\t(No symbol) [0x00007FF777E33627]\n\t(No symbol) [0x00007FF777E07C6F]\n\t(No symbol) [0x00007FF777E302F3]\n\t(No symbol) [0x00007FF777E07A03]\n\t(No symbol) [0x00007FF777DD06D0]\n\t(No symbol) [0x00007FF777DD1983]\n\tGetHandleVerifier [0x00007FF7782F67CD+3579853]\n\tGetHandleVerifier [0x00007FF77830D1D2+3672530]\n\tGetHandleVerifier [0x00007FF778302153+3627347]\n\tGetHandleVerifier [0x00007FF77806092A+868650]\n\t(No symbol) [0x00007FF777F02FFF]\n\t(No symbol) [0x00007FF777EFF4A4]\n\t(No symbol) [0x00007FF777EFF646]\n\t(No symbol) [0x00007FF777EEEAA9]\n\tBaseThreadInitThunk [0x00007FFB69C0E8D7+23]\n\tRtlUserThreadStart [0x00007FFB6AB5BF6C+44]\n"
     ]
    }
   ],
   "execution_count": 17
  }
 ],
 "metadata": {
  "kernelspec": {
   "display_name": "Python 3",
   "language": "python",
   "name": "python3"
  },
  "language_info": {
   "codemirror_mode": {
    "name": "ipython",
    "version": 2
   },
   "file_extension": ".py",
   "mimetype": "text/x-python",
   "name": "python",
   "nbconvert_exporter": "python",
   "pygments_lexer": "ipython2",
   "version": "2.7.6"
  }
 },
 "nbformat": 4,
 "nbformat_minor": 5
}
